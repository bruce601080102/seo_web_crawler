{
 "cells": [
  {
   "cell_type": "code",
   "execution_count": 2,
   "metadata": {},
   "outputs": [
    {
     "name": "stdout",
     "output_type": "stream",
     "text": [
      "Collecting ttkbootstrap\n",
      "  Using cached ttkbootstrap-1.7.4-py3-none-any.whl (131 kB)\n",
      "Collecting pillow>=8.2.0\n",
      "  Using cached Pillow-9.1.0-cp37-cp37m-win_amd64.whl (3.3 MB)\n",
      "Installing collected packages: pillow, ttkbootstrap\n",
      "  Attempting uninstall: pillow\n",
      "    Found existing installation: Pillow 7.0.0\n",
      "    Uninstalling Pillow-7.0.0:\n",
      "      Successfully uninstalled Pillow-7.0.0\n",
      "Successfully installed pillow-9.1.0 ttkbootstrap-1.7.4\n",
      "Note: you may need to restart the kernel to use updated packages.\n"
     ]
    }
   ],
   "source": [
    "pip install ttkbootstrap"
   ]
  },
  {
   "cell_type": "code",
   "execution_count": 3,
   "metadata": {},
   "outputs": [],
   "source": [
    "import time\n",
    "import tkinter as tk\n",
    "import multiprocessing as mp\n",
    "from tkinter import ttk\n",
    "from ttkbootstrap import Style\n"
   ]
  },
  {
   "cell_type": "code",
   "execution_count": 4,
   "metadata": {},
   "outputs": [],
   "source": [
    "class PYGUI:\n",
    "    def __init__(self):\n",
    "        self.init_parms = None\n",
    "        self.tor_label = None\n",
    "        self.dict_par = self._tkinter_init()\n",
    "        self.combobox = {}\n",
    "\n",
    "    def _tkinter_init(self):\n",
    "        # window = tk.Tk()\n",
    "        style = Style(theme='darkly')\n",
    "        window = style.master\n",
    "        window.title('Click Fraud')\n",
    "        window.geometry('400x620')\n",
    "\n",
    "        tab_main = ttk.Notebook()  # 創建分頁\n",
    "        tab_main.place(relx=0.02, rely=0.02, relwidth=0.95, relheight=0.95)\n",
    "        tab1 = tk.Frame(tab_main)  # 創建第一頁\n",
    "        tab1.place(x=0, y=0)\n",
    "        tab_main.add(tab1, text='SEO流量查詢')\n",
    "\n",
    "        dict_par = {\n",
    "            \"window\": window,\n",
    "            \"tab1\": tab1,\n",
    "        }\n",
    "        return dict_par\n",
    "\n",
    "    def layer1_loss_ip(self):\n",
    "        check_frame1 = ttk.Frame(self.dict_par['tab1'])\n",
    "        check_frame1.pack(fill=tk.X, ipady=5)\n",
    "        label1_Label = tk.LabelFrame(check_frame1, text='缺失IP爬蟲', borderwidth=1)\n",
    "        label1_Label.pack(side=tk.LEFT, expand=tk.YES)\n",
    "        self.layer1_loss_vpn(check_frame1)\n",
    "\n",
    "\n",
    "    def layer1_loss_vpn(self, check_frame1):\n",
    "        label2_Label = tk.LabelFrame(check_frame1, text='缺失VPN爬蟲', borderwidth=1)\n",
    "        label2_Label.pack(side=tk.RIGHT, expand=tk.YES)\n",
    "\n",
    "\n",
    "\n",
    "    def gui_unity(self):\n",
    "        self.layer1_loss_ip()\n",
    "        self.dict_par['window'].mainloop()\n",
    "        \n",
    "pygui = PYGUI()\n",
    "pygui.gui_unity()"
   ]
  },
  {
   "cell_type": "code",
   "execution_count": 14,
   "metadata": {},
   "outputs": [],
   "source": [
    "\n"
   ]
  },
  {
   "cell_type": "code",
   "execution_count": null,
   "metadata": {},
   "outputs": [],
   "source": []
  },
  {
   "cell_type": "code",
   "execution_count": 1,
   "metadata": {},
   "outputs": [],
   "source": [
    "import pandas as pd "
   ]
  },
  {
   "cell_type": "code",
   "execution_count": 2,
   "metadata": {},
   "outputs": [],
   "source": [
    "df = pd.read_excel(\"data/input.xlsx\", sheet_name=\"SEO關鍵字評估\")"
   ]
  },
  {
   "cell_type": "code",
   "execution_count": 6,
   "metadata": {},
   "outputs": [
    {
     "data": {
      "text/plain": [
       "('泓記實業有限公司', 'https://www.iontech-tw.com/')"
      ]
     },
     "execution_count": 6,
     "metadata": {},
     "output_type": "execute_result"
    }
   ],
   "source": [
    "df.columns[1],df.columns[2]"
   ]
  },
  {
   "cell_type": "code",
   "execution_count": null,
   "metadata": {},
   "outputs": [],
   "source": []
  }
 ],
 "metadata": {
  "kernelspec": {
   "display_name": "Python 3",
   "language": "python",
   "name": "python3"
  },
  "language_info": {
   "codemirror_mode": {
    "name": "ipython",
    "version": 3
   },
   "file_extension": ".py",
   "mimetype": "text/x-python",
   "name": "python",
   "nbconvert_exporter": "python",
   "pygments_lexer": "ipython3",
   "version": "3.7.6"
  }
 },
 "nbformat": 4,
 "nbformat_minor": 4
}

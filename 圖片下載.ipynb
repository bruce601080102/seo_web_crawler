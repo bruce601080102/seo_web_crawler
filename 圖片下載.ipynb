{
 "cells": [
  {
   "cell_type": "code",
   "execution_count": 153,
   "id": "297a392c",
   "metadata": {},
   "outputs": [],
   "source": [
    "import urllib\n",
    "from selenium import webdriver\n",
    "from selenium.webdriver.chrome.options import Options\n",
    "from webdriver_manager.chrome import ChromeDriverManager\n",
    "import shutil\n",
    "import os\n",
    "import time\n",
    "    \n",
    "def init_driver():\n",
    "    chrome_options = webdriver.ChromeOptions()\n",
    "    ua = \"Mozilla/5.0 (Windows NT 6.1; Win64; x64) AppleWebKit/537.36 (KHTML, like Gecko) Chrome/91.0.4472.114 Safari/537.36\"\n",
    "    chrome_options.add_argument(\"user-agent={}\".format(ua))\n",
    "    driver = webdriver.Chrome(executable_path=ChromeDriverManager().install(), options=chrome_options)\n",
    "    return driver\n",
    "\n",
    "def check_image_same_row(np_img):\n",
    "    x = np_img.shape[0]//3 # 100\n",
    "    r = x\n",
    "    status = 0\n",
    "    true = 0\n",
    "    for i in range(0,2):\n",
    "        r1_under = np_img[r-1:r,0:x] # 下行\n",
    "        r2_above = np_img[r:r+1,0:x] # 上行\n",
    "        r1_under_sum = sum(r1_under[0])\n",
    "        r2_above_sum = sum(r2_above[0])\n",
    "        np_pixel_diff = abs(r1_under_sum - r2_above_sum)\n",
    "        print(\"----->\", np_pixel_diff, r1_under_sum, r2_above_sum)\n",
    "        if np_pixel_diff < 800:\n",
    "            true += 1\n",
    "        r += x\n",
    "    \n",
    "    if true == 2:\n",
    "        status = 1\n",
    "    return status\n",
    "\n",
    "def download_image(url, name=\"train\"):\n",
    "    urllib.request.urlretrieve(url, \"data/images/\" + name + \".jpg\")\n",
    "\n",
    "def move_image(name=\"train\", status=0):\n",
    "    if status == 0:\n",
    "        file = \"3x3/\"\n",
    "    elif status == 1:\n",
    "        file = \"4x4/\"\n",
    "    else:\n",
    "        file = \"\"\n",
    "    path = \"data/images/\" + file + name +\"/\"\n",
    "    \n",
    "    if not os.path.isdir(path):\n",
    "        os.mkdir(path)\n",
    "    list_os_file = os.listdir(path)\n",
    "    if len(list_os_file) == 0:\n",
    "        number = 1\n",
    "    else:\n",
    "        number = len(list_os_file) + 1\n",
    "\n",
    "    oldpath = \"data/images/\" + \"train.jpg\"\n",
    "    newpath = path + str(number) + \".jpg\" \n",
    "    shutil.copyfile(oldpath, newpath)\n",
    "    "
   ]
  },
  {
   "cell_type": "code",
   "execution_count": null,
   "id": "bf1d9d03",
   "metadata": {},
   "outputs": [],
   "source": [
    "\n"
   ]
  },
  {
   "cell_type": "code",
   "execution_count": 154,
   "id": "66487174",
   "metadata": {},
   "outputs": [],
   "source": []
  },
  {
   "cell_type": "code",
   "execution_count": 155,
   "id": "146ec82b",
   "metadata": {
    "scrolled": true
   },
   "outputs": [
    {
     "name": "stderr",
     "output_type": "stream",
     "text": [
      "\n",
      "\n",
      "====== WebDriver manager ======\n",
      "Current google-chrome version is 100.0.4896\n",
      "Get LATEST chromedriver version for 100.0.4896 google-chrome\n",
      "Driver [C:\\Users\\top\\.wdm\\drivers\\chromedriver\\win32\\100.0.4896.60\\chromedriver.exe] found in cache\n",
      "C:\\python3_27\\envs\\seo_env\\lib\\site-packages\\ipykernel_launcher.py:16: DeprecationWarning: executable_path has been deprecated, please pass in a Service object\n",
      "  app.launch_new_instance()\n",
      "C:\\python3_27\\envs\\seo_env\\lib\\site-packages\\ipykernel_launcher.py:6: DeprecationWarning: find_element_by_xpath is deprecated. Please use find_element(by=By.XPATH, value=xpath) instead\n",
      "  \n",
      "C:\\python3_27\\envs\\seo_env\\lib\\site-packages\\ipykernel_launcher.py:8: DeprecationWarning: find_element_by_xpath is deprecated. Please use find_element(by=By.XPATH, value=xpath) instead\n",
      "  \n",
      "C:\\python3_27\\envs\\seo_env\\lib\\site-packages\\ipykernel_launcher.py:12: DeprecationWarning: find_element_by_xpath is deprecated. Please use find_element(by=By.XPATH, value=xpath) instead\n",
      "  if sys.path[0] == '':\n"
     ]
    }
   ],
   "source": [
    "url = \"https://www.google.com/search?q=\"\n",
    "query_key = \"123\"\n",
    "driver = init_driver()\n",
    "driver.get(\"https://www.google.com/search?q=allintitle%3A+water%20ionizer%20system%20company\")\n",
    "time.sleep(0.1)\n",
    "xf = driver.find_element_by_xpath(\"/html/body/div[1]/form/div/div/div/iframe\")\n",
    "driver.switch_to.frame(xf)\n",
    "driver_iframe = driver.find_element_by_xpath('/html/body/div[2]/div[3]/div[1]/div/div/span/div[1]')\n",
    "driver_iframe.click()\n",
    "time.sleep(0.1)\n",
    "driver.switch_to.default_content()\n",
    "xf2 =driver.find_element_by_xpath('/html/body/div[2]/div[4]/iframe')\n",
    "driver.switch_to.frame(xf2)"
   ]
  },
  {
   "cell_type": "code",
   "execution_count": 158,
   "id": "021a0e54",
   "metadata": {
    "scrolled": true
   },
   "outputs": [
    {
     "name": "stderr",
     "output_type": "stream",
     "text": [
      "C:\\python3_27\\envs\\seo_env\\lib\\site-packages\\ipykernel_launcher.py:2: DeprecationWarning: find_element_by_xpath is deprecated. Please use find_element(by=By.XPATH, value=xpath) instead\n",
      "  \n",
      "C:\\python3_27\\envs\\seo_env\\lib\\site-packages\\ipykernel_launcher.py:11: DeprecationWarning: find_element_by_xpath is deprecated. Please use find_element(by=By.XPATH, value=xpath) instead\n",
      "  # This is added back by InteractiveShellApp.init_path()\n"
     ]
    },
    {
     "name": "stdout",
     "output_type": "stream",
     "text": [
      "-----> 5386 18500 13114\n",
      "-----> 7819 15404 7585\n",
      "-----> 5386 18500 13114\n",
      "-----> 7819 15404 7585\n",
      "-----> 1006 11766 12772\n",
      "-----> 4931 4721 9652\n",
      "-----> 1883 10531 12414\n",
      "-----> 1687 8931 7244\n",
      "-----> 2837 14415 11578\n",
      "-----> 3087 14735 17822\n",
      "-----> 8033 7132 15165\n",
      "-----> 1816 9713 7897\n",
      "-----> 8474 9355 17829\n",
      "-----> 7134 9490 16624\n",
      "-----> 4599 10296 5697\n",
      "-----> 6991 9703 16694\n",
      "-----> 7328 10647 17975\n",
      "-----> 947 15162 16109\n",
      "-----> 6672 16198 9526\n",
      "-----> 2869 10071 12940\n",
      "-----> 10014 9768 19782\n",
      "-----> 7261 5321 12582\n",
      "-----> 3821 11335 15156\n",
      "-----> 9155 11218 20373\n",
      "-----> 2728 13605 16333\n",
      "-----> 224 15336 15112\n",
      "-----> 3941 14990 18931\n",
      "-----> 5402 9733 4331\n",
      "-----> 822 8012 8834\n",
      "-----> 7016 18650 11634\n",
      "-----> 1782 12917 11135\n",
      "-----> 11823 3783 15606\n",
      "-----> 6058 10252 16310\n",
      "-----> 1028 6221 7249\n",
      "-----> 5566 11206 16772\n",
      "-----> 8350 10353 18703\n",
      "-----> 5796 14350 20146\n",
      "-----> 13545 19144 5599\n",
      "-----> 12266 10181 22447\n",
      "-----> 6491 15133 8642\n",
      "-----> 8210 9926 18136\n",
      "-----> 6227 10799 17026\n",
      "-----> 8797 6166 14963\n",
      "-----> 4334 13769 9435\n",
      "-----> 3731 15675 11944\n",
      "-----> 1665 12173 13838\n",
      "-----> 2197 11642 9445\n",
      "-----> 5012 9859 14871\n",
      "-----> 2389 18242 15853\n",
      "-----> 5911 14665 8754\n",
      "-----> 800 10757 9957\n",
      "-----> 6004 12070 18074\n",
      "-----> 1245 15074 16319\n",
      "-----> 2438 16280 18718\n",
      "-----> 1415 16415 17830\n",
      "-----> 2633 16603 19236\n",
      "-----> 2012 9236 11248\n",
      "-----> 2232 9957 12189\n",
      "-----> 2515 10707 8192\n",
      "-----> 1054 18730 17676\n",
      "-----> 3862 10182 14044\n",
      "-----> 1136 13638 14774\n",
      "-----> 4783 10608 15391\n",
      "-----> 3128 9965 6837\n",
      "-----> 5338 11867 17205\n",
      "-----> 4045 8782 4737\n",
      "-----> 9477 9993 19470\n",
      "-----> 2174 15265 17439\n",
      "-----> 12456 6062 18518\n",
      "-----> 428 8376 8804\n",
      "-----> 3492 11902 15394\n",
      "-----> 6203 10200 16403\n",
      "-----> 1472 11388 9916\n",
      "-----> 1600 14881 13281\n",
      "-----> 6253 13672 7419\n",
      "-----> 4612 12432 17044\n",
      "-----> 3789 13009 9220\n",
      "-----> 10555 3816 14371\n",
      "-----> 7675 7458 15133\n",
      "-----> 1085 7153 8238\n",
      "-----> 9882 4885 14767\n",
      "-----> 2958 14839 11881\n",
      "-----> 1418 14441 13023\n",
      "-----> 4598 13022 17620\n",
      "-----> 1515 8583 7068\n",
      "-----> 14700 4102 18802\n",
      "-----> 9244 9112 18356\n",
      "-----> 7714 10978 18692\n",
      "-----> 10034 8431 18465\n",
      "-----> 4509 11271 15780\n",
      "-----> 2734 14199 16933\n",
      "-----> 2289 12156 9867\n",
      "-----> 7986 13362 21348\n",
      "-----> 1982 5833 7815\n",
      "-----> 964 10713 11677\n",
      "-----> 9539 16271 6732\n",
      "-----> 844 12705 11861\n",
      "-----> 7374 12170 19544\n",
      "-----> 7294 9920 17214\n",
      "-----> 11873 8174 20047\n",
      "-----> 3409 16550 19959\n",
      "-----> 5037 13913 8876\n",
      "-----> 2433 13778 11345\n",
      "-----> 1503 10629 12132\n",
      "-----> 5165 11340 16505\n",
      "-----> 6600 10429 17029\n",
      "-----> 9560 8857 18417\n",
      "-----> 877 13358 12481\n",
      "-----> 4010 9521 13531\n",
      "-----> 2044 10410 12454\n",
      "-----> 10167 8809 18976\n",
      "-----> 223 8037 8260\n",
      "-----> 9480 11114 20594\n",
      "-----> 7309 10319 17628\n",
      "-----> 7290 7899 15189\n",
      "-----> 3962 14115 10153\n",
      "-----> 3292 14691 17983\n",
      "-----> 9937 7138 17075\n",
      "-----> 5240 10116 15356\n",
      "-----> 3154 8710 5556\n",
      "-----> 2435 14303 16738\n",
      "-----> 244 10529 10773\n",
      "-----> 7614 6460 14074\n",
      "-----> 2642 16352 18994\n",
      "-----> 906 13478 14384\n",
      "-----> 4441 16527 20968\n",
      "-----> 6591 13550 6959\n",
      "-----> 4301 11747 16048\n",
      "-----> 1431 15305 16736\n",
      "-----> 10480 7446 17926\n",
      "-----> 7629 9704 17333\n",
      "-----> 1189 15266 14077\n",
      "-----> 8119 8584 16703\n",
      "-----> 8388 8768 17156\n",
      "-----> 11347 17660 6313\n",
      "-----> 5026 8405 3379\n",
      "-----> 5087 10548 5461\n",
      "-----> 7355 18237 10882\n",
      "-----> 19 12116 12097\n",
      "-----> 7585 11255 18840\n",
      "-----> 2107 6797 8904\n",
      "-----> 2449 11988 9539\n",
      "-----> 3713 14871 18584\n",
      "-----> 1614 15794 14180\n",
      "-----> 1364 12217 13581\n",
      "-----> 4406 10020 14426\n",
      "-----> 6904 11700 4796\n",
      "-----> 2584 9926 7342\n",
      "-----> 4475 13427 17902\n",
      "-----> 232 7997 8229\n",
      "-----> 4496 9695 5199\n",
      "-----> 13743 5336 19079\n",
      "-----> 6435 8725 15160\n",
      "-----> 9672 7287 16959\n",
      "-----> 8914 13082 21996\n",
      "-----> 10884 7469 18353\n",
      "-----> 4132 11005 15137\n",
      "-----> 6667 9043 15710\n",
      "-----> 2889 10766 13655\n",
      "-----> 6207 19058 12851\n",
      "-----> 3420 15102 18522\n",
      "-----> 2494 15343 17837\n",
      "-----> 10748 4009 14757\n",
      "-----> 1485 14741 16226\n",
      "-----> 1968 11731 13699\n",
      "-----> 3361 10633 13994\n",
      "-----> 16016 5753 21769\n",
      "-----> 564 12629 13193\n",
      "-----> 509 8091 8600\n",
      "-----> 855 8756 7901\n",
      "-----> 5430 10337 15767\n",
      "-----> 6446 10213 16659\n",
      "-----> 1044 11724 12768\n",
      "-----> 10699 5828 16527\n",
      "-----> 239 11912 11673\n",
      "-----> 4496 11832 16328\n",
      "-----> 585 6785 7370\n",
      "-----> 2164 12523 14687\n",
      "-----> 4152 12598 16750\n",
      "-----> 6531 7945 14476\n",
      "-----> 1562 17163 18725\n",
      "-----> 2204 12410 14614\n",
      "-----> 806 13158 13964\n",
      "-----> 768 13507 14275\n",
      "-----> 2965 13071 16036\n",
      "-----> 3385 12558 15943\n",
      "-----> 5656 11866 17522\n",
      "-----> 3135 17097 13962\n",
      "-----> 2257 10822 8565\n",
      "-----> 5574 13877 19451\n",
      "-----> 10220 9406 19626\n",
      "-----> 9542 9121 18663\n",
      "-----> 6992 12313 19305\n",
      "-----> 7795 12900 5105\n",
      "-----> 5256 12410 7154\n",
      "-----> 2340 15611 17951\n",
      "-----> 1424 13766 12342\n",
      "-----> 3262 13277 16539\n",
      "-----> 2465 14354 16819\n",
      "-----> 1697 11753 10056\n"
     ]
    }
   ],
   "source": [
    "for i in range(0,100): \n",
    "    driver_if2 = driver.find_element_by_xpath(\"/html/body/div/div/div[2]/div[1]/div[1]/div/strong\")\n",
    "    label = driver_if2.text\n",
    "    url = driver_if2.find_element_by_xpath('/html/body/div/div/div[2]/div[2]/div/table/tbody/tr[1]/td[2]/div/div[1]/img').get_attribute('src')\n",
    "\n",
    "    download_image(url)\n",
    "    img = cv2.imread('data/images/train.jpg', cv2.IMREAD_GRAYSCALE)\n",
    "    status = check_image_same_row(img)\n",
    "    move_image(label, status)\n",
    "\n",
    "    driver.find_element_by_xpath(\"/html/body/div/div/div[3]/div[2]/div[1]/div[1]/div[1]/button\").click()"
   ]
  },
  {
   "cell_type": "code",
   "execution_count": null,
   "id": "6bedc421",
   "metadata": {},
   "outputs": [],
   "source": []
  },
  {
   "cell_type": "code",
   "execution_count": null,
   "id": "82b61d20",
   "metadata": {},
   "outputs": [],
   "source": []
  },
  {
   "cell_type": "code",
   "execution_count": null,
   "id": "aa15d9a1",
   "metadata": {},
   "outputs": [],
   "source": []
  },
  {
   "cell_type": "code",
   "execution_count": null,
   "id": "32797ce5",
   "metadata": {},
   "outputs": [],
   "source": []
  },
  {
   "cell_type": "markdown",
   "id": "90c8f2da",
   "metadata": {},
   "source": [
    "## 圖片分析"
   ]
  },
  {
   "cell_type": "code",
   "execution_count": 4,
   "id": "475c7606",
   "metadata": {},
   "outputs": [],
   "source": [
    "import cv2\n",
    "import matplotlib.pyplot as plt"
   ]
  },
  {
   "cell_type": "code",
   "execution_count": 10,
   "id": "1c8e045a",
   "metadata": {},
   "outputs": [],
   "source": [
    "# , cv2.IMREAD_GRAYSCALE\n",
    "img = cv2.imread('data/images/test.jpg', cv2.IMREAD_GRAYSCALE)\n",
    "img2 = cv2.imread('data/images/test2.jpg', cv2.IMREAD_GRAYSCALE)"
   ]
  },
  {
   "cell_type": "code",
   "execution_count": null,
   "id": "e12768c7",
   "metadata": {},
   "outputs": [],
   "source": []
  },
  {
   "cell_type": "code",
   "execution_count": 15,
   "id": "5516bbd0",
   "metadata": {},
   "outputs": [
    {
     "data": {
      "text/plain": [
       "((300, 300), <matplotlib.image.AxesImage at 0x1985a353108>)"
      ]
     },
     "execution_count": 15,
     "metadata": {},
     "output_type": "execute_result"
    },
    {
     "data": {
      "image/png": "[encoded data removed]",
      "text/plain": [
       "<Figure size 432x288 with 1 Axes>"
      ]
     },
     "metadata": {
      "needs_background": "light"
     },
     "output_type": "display_data"
    }
   ],
   "source": [
    "img.shape, plt.imshow(img2)"
   ]
  },
  {
   "cell_type": "code",
   "execution_count": 12,
   "id": "f8582d85",
   "metadata": {},
   "outputs": [],
   "source": [
    "x = img.shape[0]//3"
   ]
  },
  {
   "cell_type": "code",
   "execution_count": 78,
   "id": "1c509d77",
   "metadata": {},
   "outputs": [],
   "source": [
    "def check_image_same_row(np_img):\n",
    "    x = np_img.shape[0]//3 # 100\n",
    "    r = x\n",
    "    status = 0\n",
    "    true = 0\n",
    "    for i in range(0,2):\n",
    "        r1_under = np_img[r-1:r,0:x] # 下行\n",
    "        r2_above = np_img[r:r+1,0:x] # 上行\n",
    "        r1_under_sum = sum(r1_under[0])\n",
    "        r2_above_sum = sum(r2_above[0])\n",
    "        np_pixel_diff = abs(r1_under_sum - r2_above_sum)\n",
    "        # print(\"----->\", np_pixel_diff, r1_under_sum, r2_above_sum)\n",
    "        if np_pixel_diff < 200:\n",
    "            true += 1\n",
    "        r += x\n",
    "    \n",
    "    if true == 2:\n",
    "        status = 1\n",
    "    return status\n",
    "      \n",
    "def split_image():\n",
    "    pass\n"
   ]
  },
  {
   "cell_type": "code",
   "execution_count": 79,
   "id": "ccb8ac98",
   "metadata": {},
   "outputs": [
    {
     "data": {
      "text/plain": [
       "0"
      ]
     },
     "execution_count": 79,
     "metadata": {},
     "output_type": "execute_result"
    }
   ],
   "source": [
    "check_image_same_row(img)"
   ]
  },
  {
   "cell_type": "code",
   "execution_count": 80,
   "id": "00741d4b",
   "metadata": {},
   "outputs": [
    {
     "data": {
      "text/plain": [
       "1"
      ]
     },
     "execution_count": 80,
     "metadata": {},
     "output_type": "execute_result"
    }
   ],
   "source": [
    "check_image_same_row(img2)"
   ]
  },
  {
   "cell_type": "code",
   "execution_count": null,
   "id": "e08fb227",
   "metadata": {},
   "outputs": [],
   "source": []
  },
  {
   "cell_type": "code",
   "execution_count": null,
   "id": "29078562",
   "metadata": {},
   "outputs": [],
   "source": []
  },
  {
   "cell_type": "markdown",
   "id": "c944c176",
   "metadata": {},
   "source": [
    "## 下載圖片並且分類"
   ]
  },
  {
   "cell_type": "code",
   "execution_count": null,
   "id": "696c8047",
   "metadata": {},
   "outputs": [],
   "source": []
  },
  {
   "cell_type": "code",
   "execution_count": null,
   "id": "c9dd1c62",
   "metadata": {},
   "outputs": [],
   "source": []
  }
 ],
 "metadata": {
  "kernelspec": {
   "display_name": "Python 3 (ipykernel)",
   "language": "python",
   "name": "python3"
  },
  "language_info": {
   "codemirror_mode": {
    "name": "ipython",
    "version": 3
   },
   "file_extension": ".py",
   "mimetype": "text/x-python",
   "name": "python",
   "nbconvert_exporter": "python",
   "pygments_lexer": "ipython3",
   "version": "3.7.13"
  }
 },
 "nbformat": 4,
 "nbformat_minor": 5
}

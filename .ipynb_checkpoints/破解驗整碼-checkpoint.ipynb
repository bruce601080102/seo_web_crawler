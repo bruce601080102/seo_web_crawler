{
 "cells": [
  {
   "cell_type": "code",
   "execution_count": 10,
   "metadata": {
    "scrolled": true
   },
   "outputs": [],
   "source": [
    "!pip install PyAudio‑0.2.11‑cp37‑cp37m‑win_amd64.whl"
   ]
  },
  {
   "cell_type": "code",
   "execution_count": 3,
   "metadata": {},
   "outputs": [
    {
     "name": "stdout",
     "output_type": "stream",
     "text": [
      "Collecting pydub\n",
      "  Downloading pydub-0.25.1-py2.py3-none-any.whl (32 kB)\n",
      "Installing collected packages: pydub\n",
      "Successfully installed pydub-0.25.1\n"
     ]
    }
   ],
   "source": [
    "!pip3 install pydub"
   ]
  },
  {
   "cell_type": "code",
   "execution_count": 18,
   "metadata": {},
   "outputs": [],
   "source": [
    "from pydub import AudioSegment\n",
    "import speech_recognition as sr\n",
    "import pyaudio\n",
    "import wave\n",
    "import urllib"
   ]
  },
  {
   "cell_type": "code",
   "execution_count": 141,
   "metadata": {},
   "outputs": [],
   "source": [
    "def download_mp3(url):\n",
    "    urllib.request.urlretrieve(url, \"data/audio\" + \".mp3\")\n",
    "\n",
    "def convert_wav_to_mp3():\n",
    "    sound = AudioSegment.from_mp3(\"data/audio.mp3\")\n",
    "    sound.export(\"data/captcha.wav\", format=\"wav\")\n",
    "\n",
    "def detect_content():\n",
    "    r = sr.Recognizer()\n",
    "    WAV = sr.AudioFile('data/captcha.wav')\n",
    "    with WAV as source:\n",
    "        audio = r.record(source)\n",
    "    dict_result = r.recognize_google(audio, show_all=True)\n",
    "    result = dict_result[\"alternative\"][0]['transcript']\n",
    "    return result\n",
    "\n",
    "def run_val(url):\n",
    "    download_mp3(url)\n",
    "    convert_wav_to_mp3()\n",
    "    result = detect_content()\n",
    "    return result"
   ]
  },
  {
   "cell_type": "code",
   "execution_count": 151,
   "metadata": {},
   "outputs": [],
   "source": [
    "r = sr.Recognizer()\n",
    "WAV = sr.AudioFile('data/audio.wav')\n",
    "with WAV as source:\n",
    "    audio = r.record(source)\n",
    "dict_result = r.recognize_google(audio, show_all=True)"
   ]
  },
  {
   "cell_type": "code",
   "execution_count": 152,
   "metadata": {},
   "outputs": [
    {
     "data": {
      "text/plain": [
       "{'alternative': [{'transcript': 'doing anything now',\n",
       "   'confidence': 0.88063312},\n",
       "  {'transcript': 'doing anything'},\n",
       "  {'transcript': 'doing anything now.'},\n",
       "  {'transcript': \"I'm doing anything now\"},\n",
       "  {'transcript': 'doing anything now that'}],\n",
       " 'final': True}"
      ]
     },
     "execution_count": 152,
     "metadata": {},
     "output_type": "execute_result"
    }
   ],
   "source": [
    "dict_result"
   ]
  },
  {
   "cell_type": "code",
   "execution_count": 17,
   "metadata": {},
   "outputs": [
    {
     "data": {
      "text/plain": [
       "'in content across the internet'"
      ]
     },
     "execution_count": 17,
     "metadata": {},
     "output_type": "execute_result"
    }
   ],
   "source": [
    "result = dict_result[\"alternative\"][0]['transcript']\n",
    "result"
   ]
  },
  {
   "cell_type": "code",
   "execution_count": 21,
   "metadata": {},
   "outputs": [
    {
     "data": {
      "text/plain": [
       "('data/rrr.mp3', <http.client.HTTPMessage at 0x1588f78d7c8>)"
      ]
     },
     "execution_count": 21,
     "metadata": {},
     "output_type": "execute_result"
    }
   ],
   "source": [
    "urllib.request.urlretrieve(\"https://www.google.com/recaptcha/api2/payload/audio.mp3?p=06AGdBq27rhBENk29fIXtiFkMmp01PPOfvJ341UuWirdghx_ZM-ObiAmGu7F8RufEgYOjTnRVhrHsI0GZxmugea8mjGAPYqZlTWvQY-g2tgBXr-5sVWJgouHXGhfMzQVXPRQX9jg3Gfxg7x4TtyUPCQ-1mZLYGbJcb_RwX2JEXJ06m4a1CWpTTgc3HmsvpezHLCxR4n0X5eE9D7_BPJtbrLkb5UDr1ZNNJzw&k=6LfwuyUTAAAAAOAmoS0fdqijC2PbbdH4kjq62Y1b\", \"data/rrr\" + \".mp3\")"
   ]
  },
  {
   "cell_type": "code",
   "execution_count": null,
   "metadata": {},
   "outputs": [],
   "source": []
  },
  {
   "cell_type": "code",
   "execution_count": null,
   "metadata": {},
   "outputs": [],
   "source": []
  },
  {
   "cell_type": "code",
   "execution_count": null,
   "metadata": {},
   "outputs": [],
   "source": []
  },
  {
   "cell_type": "code",
   "execution_count": null,
   "metadata": {},
   "outputs": [],
   "source": []
  },
  {
   "cell_type": "code",
   "execution_count": 22,
   "metadata": {},
   "outputs": [],
   "source": [
    "from selenium import webdriver\n",
    "from selenium.webdriver.chrome.options import Options\n",
    "from webdriver_manager.chrome import ChromeDriverManager"
   ]
  },
  {
   "cell_type": "code",
   "execution_count": 23,
   "metadata": {},
   "outputs": [],
   "source": [
    "def init_driver():\n",
    "    chrome_options = webdriver.ChromeOptions()\n",
    "    ua = \"Mozilla/5.0 (Windows NT 6.1; Win64; x64) AppleWebKit/537.36 (KHTML, like Gecko) Chrome/91.0.4472.114 Safari/537.36\"\n",
    "    chrome_options.add_argument(\"user-agent={}\".format(ua))\n",
    "    driver = webdriver.Chrome(executable_path=ChromeDriverManager().install(), options=chrome_options)\n",
    "    return driver"
   ]
  },
  {
   "cell_type": "code",
   "execution_count": 182,
   "metadata": {},
   "outputs": [
    {
     "name": "stderr",
     "output_type": "stream",
     "text": [
      "\n",
      "\n",
      "====== WebDriver manager ======\n",
      "Current google-chrome version is 99.0.4844\n",
      "Get LATEST chromedriver version for 99.0.4844 google-chrome\n",
      "Driver [C:\\Users\\top\\.wdm\\drivers\\chromedriver\\win32\\99.0.4844.51\\chromedriver.exe] found in cache\n"
     ]
    }
   ],
   "source": [
    "url = \"https://www.google.com/search?q=\"\n",
    "query_key = \"123\"\n",
    "driver = init_driver()\n",
    "driver.get(\"https://www.google.com/search?q=allintitle%3A+water%20ionizer%20system%20company\")"
   ]
  },
  {
   "cell_type": "markdown",
   "metadata": {},
   "source": [
    "## 先按驗證"
   ]
  },
  {
   "cell_type": "code",
   "execution_count": 183,
   "metadata": {
    "scrolled": true
   },
   "outputs": [],
   "source": [
    "xf = driver.find_element_by_xpath(\"/html/body/div[1]/form/div/div/div/iframe\")\n",
    "driver.switch_to.frame(xf)\n",
    "driver_iframe = driver.find_element_by_xpath('/html/body/div[2]/div[3]/div[1]/div/div/span/div[1]')\n",
    "driver_iframe.click()"
   ]
  },
  {
   "cell_type": "markdown",
   "metadata": {},
   "source": [
    "## 按語音驗證按鈕"
   ]
  },
  {
   "cell_type": "code",
   "execution_count": 184,
   "metadata": {
    "scrolled": true
   },
   "outputs": [],
   "source": [
    "driver.switch_to.default_content()\n",
    "xf2 =driver.find_element_by_xpath('/html/body/div[2]/div[4]/iframe')\n",
    "driver.switch_to.frame(xf2)\n",
    "driver_if2 = driver.find_element_by_xpath(\"/html/body/div/div/div[3]/div[2]/div[1]/div[1]/div[2]/button\")\n",
    "driver_if2.click()"
   ]
  },
  {
   "cell_type": "markdown",
   "metadata": {},
   "source": [
    "## 獲取語音的網址"
   ]
  },
  {
   "cell_type": "code",
   "execution_count": 185,
   "metadata": {},
   "outputs": [],
   "source": [
    "url = driver.find_element_by_xpath(\"/html/body/div/div/div[7]/a\").get_attribute('href')"
   ]
  },
  {
   "cell_type": "markdown",
   "metadata": {},
   "source": [
    "## 輸入結果"
   ]
  },
  {
   "cell_type": "code",
   "execution_count": 186,
   "metadata": {},
   "outputs": [],
   "source": [
    "status = \"error\"\n",
    "while status == \"error\":\n",
    "    url = driver.find_element_by_xpath(\"/html/body/div/div/div[7]/a\").get_attribute('href')\n",
    "    try:\n",
    "        result = run_val(url)\n",
    "        status = \"seccess\"\n",
    "    except Exception:\n",
    "        result = 1\n",
    "        status = \"error\"\n",
    "    capture_input = driver.find_element_by_xpath(\"/html/body/div/div/div[6]/input\")\n",
    "    capture_input.send_keys(result)\n",
    "    driver.find_element_by_xpath(\"/html/body/div/div/div[8]/div[2]/div[1]/div[2]/button\").click()"
   ]
  },
  {
   "cell_type": "code",
   "execution_count": 176,
   "metadata": {},
   "outputs": [],
   "source": [
    "result = driver.find_element_by_xpath(\"/html/body/div[7]/div/div[7]/div[1]/div/div/div/div\").text.split(\" \")"
   ]
  },
  {
   "cell_type": "code",
   "execution_count": 177,
   "metadata": {},
   "outputs": [
    {
     "data": {
      "text/plain": [
       "['3', '項結果', '(搜尋時間：0.75', '秒)', '']"
      ]
     },
     "execution_count": 177,
     "metadata": {},
     "output_type": "execute_result"
    }
   ],
   "source": [
    "result"
   ]
  },
  {
   "cell_type": "code",
   "execution_count": null,
   "metadata": {},
   "outputs": [],
   "source": []
  },
  {
   "cell_type": "code",
   "execution_count": null,
   "metadata": {},
   "outputs": [],
   "source": []
  },
  {
   "cell_type": "code",
   "execution_count": 40,
   "metadata": {},
   "outputs": [],
   "source": []
  },
  {
   "cell_type": "code",
   "execution_count": null,
   "metadata": {},
   "outputs": [],
   "source": []
  }
 ],
 "metadata": {
  "kernelspec": {
   "display_name": "Python 3.7.7 64-bit ('tensorflow-gpu2_1': conda)",
   "language": "python",
   "name": "python37764bittensorflowgpu21conda7ac40d437a094fcaa87c9fb168d8ea8d"
  },
  "language_info": {
   "codemirror_mode": {
    "name": "ipython",
    "version": 3
   },
   "file_extension": ".py",
   "mimetype": "text/x-python",
   "name": "python",
   "nbconvert_exporter": "python",
   "pygments_lexer": "ipython3",
   "version": "3.7.7"
  }
 },
 "nbformat": 4,
 "nbformat_minor": 4
}
